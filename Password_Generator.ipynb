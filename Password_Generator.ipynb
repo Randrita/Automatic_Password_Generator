{
 "cells": [
  {
   "cell_type": "code",
   "execution_count": 11,
   "metadata": {},
   "outputs": [],
   "source": [
    "import string\n",
    "import random"
   ]
  },
  {
   "cell_type": "code",
   "execution_count": 10,
   "metadata": {},
   "outputs": [
    {
     "name": "stdout",
     "output_type": "stream",
     "text": [
      "Enter the password lenght\n",
      "5\n",
      "['a', 'b', 'c', 'd', 'e', 'f', 'g', 'h', 'i', 'j', 'k', 'l', 'm', 'n', 'o', 'p', 'q', 'r', 's', 't', 'u', 'v', 'w', 'x', 'y', 'z', 'A', 'B', 'C', 'D', 'E', 'F', 'G', 'H', 'I', 'J', 'K', 'L', 'M', 'N', 'O', 'P', 'Q', 'R', 'S', 'T', 'U', 'V', 'W', 'X', 'Y', 'Z', '0', '1', '2', '3', '4', '5', '6', '7', '8', '9', '0', '1', '2', '3', '4', '5', '6', '7', '8', '9', 'a', 'b', 'c', 'd', 'e', 'f', 'A', 'B', 'C', 'D', 'E', 'F', '0', '1', '2', '3', '4', '5', '6', '7', '!', '\"', '#', '$', '%', '&', \"'\", '(', ')', '*', '+', ',', '-', '.', '/', ':', ';', '<', '=', '>', '?', '@', '[', '\\\\', ']', '^', '_', '`', '{', '|', '}', '~']\n"
     ]
    }
   ],
   "source": [
    "s1 = string.ascii_lowercase\n",
    "s2 = string.ascii_uppercase\n",
    "s3 = string.digits\n",
    "s4 = string.hexdigits\n",
    "s5 = string.octdigits\n",
    "s6 = string.punctuation\n",
    "plen = int(input(\"Enter the password lenght\\n\"))\n",
    "s=[]\n",
    "s.extend(list(s1))\n",
    "s.extend(list(s2))\n",
    "s.extend(list(s3))\n",
    "s.extend(list(s4))\n",
    "s.extend(list(s5))\n",
    "s.extend(list(s6))\n",
    "print(s)"
   ]
  },
  {
   "cell_type": "code",
   "execution_count": 12,
   "metadata": {},
   "outputs": [
    {
     "name": "stdout",
     "output_type": "stream",
     "text": [
      "['`', 'N', '>', 't', 'c', 'S', '7', '%', 'O', '~', '0', '|', '6', 'c', '2', '^', '.', 'j', 'm', 'K', 'a', 'e', 'A', 'Z', 'A', '<', '$', '3', '\"', 'q', 'i', 'X', '4', '{', '6', 'H', '5', 'D', 'C', '2', '3', 'B', 'C', 'u', '7', 'd', ']', 'k', '[', 'd', 'U', 'w', '0', 'F', \"'\", 'L', 'o', '3', '9', ':', '1', 'x', '/', '}', '_', 's', 'r', 'f', 'b', '?', 'b', 'h', 'G', ';', 'V', '=', '&', '@', 'P', '0', 'T', '*', ',', 'v', '-', 'Q', 'W', 'y', '7', 'M', 'D', '(', '2', 'p', '+', 'a', 'Y', '4', 'F', '#', 'f', 'R', 'z', 'e', '4', '\\\\', '5', '6', '1', 'E', 'E', 'B', '8', '!', 'n', 'J', '5', '8', ')', '9', 'g', '1', 'l', 'I']\n"
     ]
    }
   ],
   "source": [
    "random.shuffle(s)\n",
    "print(s)"
   ]
  },
  {
   "cell_type": "code",
   "execution_count": 15,
   "metadata": {},
   "outputs": [
    {
     "name": "stdout",
     "output_type": "stream",
     "text": [
      "Your Password is : `N>tc\n"
     ]
    }
   ],
   "source": [
    "k= \"\".join(s[:plen])\n",
    "print(\"Your Password is :\",k)"
   ]
  },
  {
   "cell_type": "code",
   "execution_count": null,
   "metadata": {},
   "outputs": [],
   "source": []
  }
 ],
 "metadata": {
  "kernelspec": {
   "display_name": "Python 3",
   "language": "python",
   "name": "python3"
  },
  "language_info": {
   "codemirror_mode": {
    "name": "ipython",
    "version": 3
   },
   "file_extension": ".py",
   "mimetype": "text/x-python",
   "name": "python",
   "nbconvert_exporter": "python",
   "pygments_lexer": "ipython3",
   "version": "3.8.3"
  }
 },
 "nbformat": 4,
 "nbformat_minor": 4
}
